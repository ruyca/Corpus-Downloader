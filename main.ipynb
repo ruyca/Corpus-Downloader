{
 "cells": [
  {
   "cell_type": "markdown",
   "metadata": {},
   "source": [
    "# Titulo"
   ]
  },
  {
   "cell_type": "code",
   "execution_count": 2,
   "metadata": {},
   "outputs": [],
   "source": [
    "import pandas as pd\n",
    "import os\n",
    "import time \n",
    "from tinydb import TinyDB, Query\n",
    "from pytubefix import YouTube\n",
    "from pytubefix.exceptions import VideoUnavailable\n",
    "from pytubefix.cli import on_progress\n",
    "import whisper\n",
    "from whisper.utils import get_writer"
   ]
  },
  {
   "cell_type": "markdown",
   "metadata": {},
   "source": [
    "## Constantes y variables auxiliares"
   ]
  },
  {
   "cell_type": "code",
   "execution_count": 3,
   "metadata": {},
   "outputs": [],
   "source": [
    "ESTADOS = {1:\"Aguascalientes\", 2:\"Baja California\", 3:\"Baja California Sur\", 4:\"Campeche\", \n",
    "            5:\"Chiapas\", 6:\"Chihuahua\", 7:\"Coahuila\", 8:\"Colima\", 9:\"Durango\", 10:\"Guanajuato\",\n",
    "            11:\"Guerrero\", 12:\"Hidalgo\", 13:\"Jalisco\", 14:\"Ciudad de México\", 15:\"Estado de México\", \n",
    "            16:\"Michoacán\", 17:\"Morelos\", 18:\"Nayarit\", 19:\"Nuevo León\", 20:\"Oaxaca\", 21:\"Puebla\", 22:\"Querétaro\", \n",
    "            23:\"Quintana Roo\", 24:\"San Luis Potosí\", 25:\"Sinaloa\", 26:\"Sonora\", 27:\"Tabasco\", 28:\"Tamaulipas\",\n",
    "            29:\"Tlaxcala\", 30:\"Veracruz\", 31:\"Yucatán\", 32:\"Zacatecas\"}\n",
    "\n",
    "# Modidificar si deseas guardar los audios o captions en otra ubicación\n",
    "AUDIOS_DIR = os.path.join(os.getcwd(), \"audios\")\n",
    "CAPTIONS_DIR = os.path.join(os.getcwd(), \"captions\")\n",
    "YT_CAPTIONS_DIR = os.path.join(CAPTIONS_DIR, \"yt_captions\")\n",
    "WHISPER_CAPTIONS_DIR = os.path.join(CAPTIONS_DIR, \"whisper_captions\")"
   ]
  },
  {
   "cell_type": "markdown",
   "metadata": {},
   "source": [
    "## Creando un dataframe del corpus actual"
   ]
  },
  {
   "cell_type": "markdown",
   "metadata": {},
   "source": [
    "Actualizado el: 11/11/2023"
   ]
  },
  {
   "cell_type": "code",
   "execution_count": 4,
   "metadata": {},
   "outputs": [
    {
     "data": {
      "text/html": [
       "<div>\n",
       "<style scoped>\n",
       "    .dataframe tbody tr th:only-of-type {\n",
       "        vertical-align: middle;\n",
       "    }\n",
       "\n",
       "    .dataframe tbody tr th {\n",
       "        vertical-align: top;\n",
       "    }\n",
       "\n",
       "    .dataframe thead th {\n",
       "        text-align: right;\n",
       "    }\n",
       "</style>\n",
       "<table border=\"1\" class=\"dataframe\">\n",
       "  <thead>\n",
       "    <tr style=\"text-align: right;\">\n",
       "      <th></th>\n",
       "      <th>Estado</th>\n",
       "      <th>Nombre</th>\n",
       "      <th>Edad</th>\n",
       "      <th>Género</th>\n",
       "      <th>Título</th>\n",
       "      <th>Fecha de creación</th>\n",
       "      <th>Link</th>\n",
       "      <th>Fecha de recopilación</th>\n",
       "      <th>Aportación</th>\n",
       "    </tr>\n",
       "  </thead>\n",
       "  <tbody>\n",
       "    <tr>\n",
       "      <th>0</th>\n",
       "      <td>Aguascalientes</td>\n",
       "      <td>Alejandra García</td>\n",
       "      <td>26.0</td>\n",
       "      <td>Femenino</td>\n",
       "      <td>REGALO COMÍDA en la CALLE | lo logramos 🙏🏻🥳 Al...</td>\n",
       "      <td>31 agosto 2023</td>\n",
       "      <td>https://youtu.be/hWKy7Ns1pNo?si=CtYGM3G0f_TtUXUz</td>\n",
       "      <td>18 septiembre 2023</td>\n",
       "      <td>Heili</td>\n",
       "    </tr>\n",
       "    <tr>\n",
       "      <th>1</th>\n",
       "      <td>Aguascalientes</td>\n",
       "      <td>Alejandra García</td>\n",
       "      <td>26.0</td>\n",
       "      <td>Femenino</td>\n",
       "      <td>habitación principal | REMODELACIÓN, CON POQUI...</td>\n",
       "      <td>30 noviembre 2022</td>\n",
       "      <td>https://youtu.be/bm2xz0_HrGc?si=anegbcnciRTpv535</td>\n",
       "      <td>18 septiembre 2023</td>\n",
       "      <td>Heili</td>\n",
       "    </tr>\n",
       "    <tr>\n",
       "      <th>2</th>\n",
       "      <td>Aguascalientes</td>\n",
       "      <td>Alejandra García</td>\n",
       "      <td>26.0</td>\n",
       "      <td>Femenino</td>\n",
       "      <td>Nuestro Árbol de Navidad Casero | Ale García ✨</td>\n",
       "      <td>21 noviembre 2021</td>\n",
       "      <td>https://youtu.be/JT3WoDrrl1A?si=U7yvebArA8Qx6wkv</td>\n",
       "      <td>18 septiembre 2023</td>\n",
       "      <td>Heili</td>\n",
       "    </tr>\n",
       "    <tr>\n",
       "      <th>3</th>\n",
       "      <td>Aguascalientes</td>\n",
       "      <td>Paulina Espinoza Ávila</td>\n",
       "      <td>37.0</td>\n",
       "      <td>Femenino</td>\n",
       "      <td>inflamación abdominal</td>\n",
       "      <td>1 agosto 2023</td>\n",
       "      <td>https://youtu.be/6DRWV94GF_M?si=-bhaBjaK_jonBLNz</td>\n",
       "      <td>26 de octubre 2023</td>\n",
       "      <td>Heili</td>\n",
       "    </tr>\n",
       "    <tr>\n",
       "      <th>4</th>\n",
       "      <td>Aguascalientes</td>\n",
       "      <td>Paulina Espinoza Ávila</td>\n",
       "      <td>37.0</td>\n",
       "      <td>Femenino</td>\n",
       "      <td>6 de enero de 2023</td>\n",
       "      <td>6 enero 2023</td>\n",
       "      <td>https://youtu.be/8rAqZKE6ZRk?si=gH_-kllispldo99U</td>\n",
       "      <td>26 de octubre 2023</td>\n",
       "      <td>Heili</td>\n",
       "    </tr>\n",
       "  </tbody>\n",
       "</table>\n",
       "</div>"
      ],
      "text/plain": [
       "           Estado                  Nombre  Edad    Género  \\\n",
       "0  Aguascalientes       Alejandra García   26.0  Femenino   \n",
       "1  Aguascalientes       Alejandra García   26.0  Femenino   \n",
       "2  Aguascalientes       Alejandra García   26.0  Femenino   \n",
       "3  Aguascalientes  Paulina Espinoza Ávila  37.0  Femenino   \n",
       "4  Aguascalientes  Paulina Espinoza Ávila  37.0  Femenino   \n",
       "\n",
       "                                              Título  Fecha de creación  \\\n",
       "0  REGALO COMÍDA en la CALLE | lo logramos 🙏🏻🥳 Al...     31 agosto 2023   \n",
       "1  habitación principal | REMODELACIÓN, CON POQUI...  30 noviembre 2022   \n",
       "2     Nuestro Árbol de Navidad Casero | Ale García ✨  21 noviembre 2021   \n",
       "3                              inflamación abdominal      1 agosto 2023   \n",
       "4                                 6 de enero de 2023       6 enero 2023   \n",
       "\n",
       "                                               Link Fecha de recopilación  \\\n",
       "0  https://youtu.be/hWKy7Ns1pNo?si=CtYGM3G0f_TtUXUz    18 septiembre 2023   \n",
       "1  https://youtu.be/bm2xz0_HrGc?si=anegbcnciRTpv535    18 septiembre 2023   \n",
       "2  https://youtu.be/JT3WoDrrl1A?si=U7yvebArA8Qx6wkv    18 septiembre 2023   \n",
       "3  https://youtu.be/6DRWV94GF_M?si=-bhaBjaK_jonBLNz    26 de octubre 2023   \n",
       "4  https://youtu.be/8rAqZKE6ZRk?si=gH_-kllispldo99U    26 de octubre 2023   \n",
       "\n",
       "  Aportación  \n",
       "0      Heili  \n",
       "1      Heili  \n",
       "2      Heili  \n",
       "3      Heili  \n",
       "4      Heili  "
      ]
     },
     "execution_count": 4,
     "metadata": {},
     "output_type": "execute_result"
    }
   ],
   "source": [
    "df = pd.read_csv(\"corpus_yt_2023.csv\")\n",
    "df.rename(str.strip, axis=\"columns\", inplace = True)\n",
    "df.loc[:, \"Nombre\"].ffill(limit=2, inplace = True)\n",
    "df.loc[:, \"Estado\"].ffill(inplace=True)\n",
    "df.loc[:, \"Edad\"].ffill(limit=2, inplace = True)\n",
    "df.loc[:, \"Género\"].ffill(limit=2, inplace = True)\n",
    "\n",
    "df.head(5)"
   ]
  },
  {
   "cell_type": "markdown",
   "metadata": {},
   "source": [
    "## Database con TinyDB"
   ]
  },
  {
   "cell_type": "code",
   "execution_count": 5,
   "metadata": {},
   "outputs": [],
   "source": [
    "db_file = \"audio_database.json\"\n",
    "DOWNLOADED = [] # Guarda el número de la fila de los audios descargados\n",
    "\n",
    "# Tratamos de abrir el archivo json, en caso de que no este, lo creamos.\n",
    "try:\n",
    "    with open(db_file, 'r'):\n",
    "        pass\n",
    "    db = TinyDB(db_file)\n",
    "except FileNotFoundError:\n",
    "    db = TinyDB(db_file)\n",
    "\n",
    "\n",
    "def save_audio_index(index_downloaded):\n",
    "    with open(\"downloaded.txt\", 'a') as file:\n",
    "        file.write(str(index_downloaded) + '\\n')\n",
    "\n",
    "# Guardamos: video_id, estado, autor, edad, genero, ruta_audio, yt_trad, whisper_trad\n",
    "def create_db_entries(df_entry, r_aud, r_yt, r_whisp=\"N/A\"):\n",
    "    id = YouTube(df_entry[\"Link\"]).video_id\n",
    "    db.insert({\"Estado\":df_entry[\"Estado\"], \"Autor\":df_entry[\"Nombre\"], \"Edad\":df_entry[\"Edad\"], \n",
    "               \"Genero\":df_entry[\"Género\"], \"VideoID\":id, \"Ruta\":r_aud, \"Caption_YT\": r_yt,\n",
    "               \"Caption_Whisper\": r_whisp})\n",
    "\n",
    "def load_downloaded_audios():\n",
    "    # archivo txt con los indices de los auidos ya descargados\n",
    "    try:\n",
    "        with open(\"downloaded.txt\", \"r\") as file:\n",
    "            for row_num in file:\n",
    "                val = int(row_num.strip(\"\\n\"))\n",
    "                DOWNLOADED.append(val)\n",
    "    except FileNotFoundError as e:\n",
    "        print(f\"File not found: {e}\")\n",
    "\n",
    "def errase_db():\n",
    "    db.truncate()\n",
    "    db.all()\n",
    "\n",
    "def errase_downloaded_txt():\n",
    "    try:\n",
    "        with open(\"downloaded.txt\", \"w\") as _:\n",
    "           pass\n",
    "    except FileNotFoundError as e:\n",
    "        print(f'File not found: {e}')"
   ]
  },
  {
   "cell_type": "markdown",
   "metadata": {},
   "source": [
    "## Funciones para generar las transcripciones. \n",
    "\n",
    "Las transcripcciones, o subtítulos o _captions_ es el texto generadoro en cada video. En este caso, utilizamos transcripciones generadas por dos métodos: \n",
    "\n",
    "1. Generadas de manera automática por YouTube.\n",
    "2. Generadas por medio de Whisper."
   ]
  },
  {
   "cell_type": "code",
   "execution_count": 83,
   "metadata": {},
   "outputs": [],
   "source": [
    "# Generación de transcripciones\n",
    "def captions_whisper(ruta_audio: str) -> str:\n",
    "    model = whisper.load_model(\"base\")\n",
    "    audio = r'{}'.format(ruta_audio)\n",
    "    result = model.transcribe(audio=audio,\n",
    "                            fp16=False, word_timestamps=True,\n",
    "                            verbose=False)\n",
    "    srt_writer = get_writer(\"srt\", WHISPER_CAPTIONS_DIR)\n",
    "    srt_writer(result, audio)  \n",
    "\n",
    "    n = ruta_audio.find(\".mp3\") - 11\n",
    "    name = s[n:len(s)-4] + \".srt\"\n",
    "    ruta = WHISPER_CAPTIONS_DIR + '\\\\' + name\n",
    "    return ruta\n",
    "\n",
    "def captions_youtube(yt: YouTube) -> str:\n",
    "    vid_id = yt.video_id\n",
    "    flag = True\n",
    "    try: \n",
    "        caption = yt.captions[\"a.es\"]\n",
    "        file_path = os.path.join(YT_CAPTIONS_DIR, f\"{vid_id}.srt\")\n",
    "        caption.download(yt.video_id)\n",
    "        os.rename(f'{yt.video_id +\" (a.es).srt\"}', file_path)\n",
    "    except:\n",
    "        print(f\"No se pudo descargar los subtitulos del video: {vid_id}\")\n",
    "        flag = False\n",
    "\n",
    "    ruta = file_path if flag else \"N/A\"\n",
    "\n",
    "    return ruta\n",
    "    "
   ]
  },
  {
   "cell_type": "markdown",
   "metadata": {},
   "source": [
    "## Función para descargar videos"
   ]
  },
  {
   "cell_type": "code",
   "execution_count": 55,
   "metadata": {},
   "outputs": [],
   "source": [
    "errors = {}\n",
    "def download_audio(link:str, row, i:int):\n",
    "    \n",
    "    try: \n",
    "        yt = YouTube(link, on_progress_callback = on_progress)\n",
    "    except VideoUnavailable:\n",
    "        print(f'Video at {link} is unavailable, skipping...')\n",
    "    else:\n",
    "        try:\n",
    "            ys = yt.streams.get_audio_only()\n",
    "            name = yt.video_id  + \".mp3\"\n",
    "            # el error son los simbolos. y CUANDO se descarga\n",
    "            dest_path = ys.download(output_path=AUDIOS_DIR, filename=name)\n",
    "            #_, ext = os.path.splitext(current_name)  # Obtenemos la extension\n",
    "            #dest_path = os.path.join(AUDIOS_DIR, f\"{yt.video_id}{ext}\")\n",
    "            #os.rename(current_name, dest_path) # Cambiamos el nombre por su id\n",
    "            #save_audio_index(i) \n",
    "            # Se guarda automaticamente la transcripcion de yt. \n",
    "            rYT = captions_youtube(yt)\n",
    "            create_db_entries(row, dest_path, rYT)\n",
    "        except Exception as e:\n",
    "            print(f'An error occurred while downloading the video: {str(e)}')\n",
    "            errors[i] =  yt\n",
    "            print(f'i {i}, Link {link}, Title: {yt.title}')"
   ]
  },
  {
   "cell_type": "markdown",
   "metadata": {},
   "source": [
    "## Main"
   ]
  },
  {
   "cell_type": "code",
   "execution_count": 56,
   "metadata": {},
   "outputs": [
    {
     "name": "stdout",
     "output_type": "stream",
     "text": [
      "************************************************************\n",
      "Iniciando descarga de 183 audios.\n",
      "Tiempo esperado de descarga: 43.8 minutos\n",
      "DESCARGA FINALIZADA███████████████████████████████████████████████████████████████████████| 100.0%\n",
      "Tiempo real de descarga: 0.25 minutos\n"
     ]
    }
   ],
   "source": [
    "downloaded_counter = 0 \n",
    "\n",
    "df_available = df.dropna()\n",
    "available_total = len(df_available)\n",
    "load_downloaded_audios()\n",
    "exp_time = lambda x: x*71.8/5/60\n",
    "print('**'*30)\n",
    "print(f'Iniciando descarga de {available_total} audios.\\nTiempo esperado de descarga: {round(exp_time(available_total),2)} minutos')\n",
    "\n",
    "# testing\n",
    "stop = 4\n",
    "\n",
    "start_time = time.time()\n",
    "for i, row in df_available.iterrows():\n",
    "\n",
    "    link = row[\"Link\"]\n",
    "\n",
    "    if downloaded_counter % 5 == 0 and downloaded_counter != 0: \n",
    "        # Cada 5 descargas esperamos un minuto para evitar ser bloqueados\n",
    "        time.sleep(60)\n",
    "\n",
    "    if i in DOWNLOADED:\n",
    "        print(\"Audio ya descargado, saltando...\")\n",
    "        continue\n",
    "    else:\n",
    "        download_audio(link, row, i)\n",
    "\n",
    "    # testing\n",
    "    if i == stop:\n",
    "        break\n",
    "\n",
    "    downloaded_counter += 1\n",
    "\n",
    "# Whisper captions\n",
    "#for i in range(stop):\n",
    "#    pass\n",
    "\n",
    "\n",
    "end_time = time.time()\n",
    "total_time = round((end_time - start_time) / 60, 2)\n",
    "print(\"DESCARGA FINALIZADA\")\n",
    "print(f'Tiempo real de descarga: {total_time} minutos')\n",
    "time.sleep(5)\n",
    "\n",
    "### Creacion de captions\n"
   ]
  },
  {
   "cell_type": "markdown",
   "metadata": {},
   "source": [
    "## TO DO \n",
    "\n",
    "- Agregar captions\n",
    "    - YouTube\n",
    "- Actualizar la creacion de tinyDB con rutas de captions\n",
    "- Arreglar descarga (no todos se descargan)"
   ]
  },
  {
   "cell_type": "code",
   "execution_count": 52,
   "metadata": {},
   "outputs": [],
   "source": [
    "#### delete\n",
    "errase_db()\n",
    "errase_downloaded_txt()"
   ]
  },
  {
   "cell_type": "code",
   "execution_count": 86,
   "metadata": {},
   "outputs": [
    {
     "name": "stdout",
     "output_type": "stream",
     "text": [
      "[{'Estado': 'Aguascalientes', 'Autor': 'Alejandra García ', 'Edad': 26.0, 'Genero': 'Femenino', 'VideoID': 'hWKy7Ns1pNo', 'Ruta': 'c:\\\\Users\\\\ruyca\\\\Desktop\\\\UNAM\\\\2024-1\\\\IIMAS-servicio\\\\codigos\\\\corpus_downloader\\\\audios\\\\hWKy7Ns1pNo.mp3', 'Caption_YT': 'c:\\\\Users\\\\ruyca\\\\Desktop\\\\UNAM\\\\2024-1\\\\IIMAS-servicio\\\\codigos\\\\corpus_downloader\\\\captions\\\\yt_captions\\\\hWKy7Ns1pNo.srt', 'Caption_Whisper': 'c:\\\\Users\\\\ruyca\\\\Desktop\\\\UNAM\\\\2024-1\\\\IIMAS-servicio\\\\codigos\\\\corpus_downloader\\\\captions\\\\whisper_captions\\\\hWKy7Ns1pNo.srt'}, {'Estado': 'Aguascalientes', 'Autor': 'Alejandra García ', 'Edad': 26.0, 'Genero': 'Femenino', 'VideoID': 'bm2xz0_HrGc', 'Ruta': 'c:\\\\Users\\\\ruyca\\\\Desktop\\\\UNAM\\\\2024-1\\\\IIMAS-servicio\\\\codigos\\\\corpus_downloader\\\\audios\\\\bm2xz0_HrGc.mp3', 'Caption_YT': 'c:\\\\Users\\\\ruyca\\\\Desktop\\\\UNAM\\\\2024-1\\\\IIMAS-servicio\\\\codigos\\\\corpus_downloader\\\\captions\\\\yt_captions\\\\bm2xz0_HrGc.srt', 'Caption_Whisper': 'c:\\\\Users\\\\ruyca\\\\Desktop\\\\UNAM\\\\2024-1\\\\IIMAS-servicio\\\\codigos\\\\corpus_downloader\\\\captions\\\\whisper_captions\\\\hWKy7Ns1pNo.srt'}, {'Estado': 'Aguascalientes', 'Autor': 'Alejandra García ', 'Edad': 26.0, 'Genero': 'Femenino', 'VideoID': 'JT3WoDrrl1A', 'Ruta': 'c:\\\\Users\\\\ruyca\\\\Desktop\\\\UNAM\\\\2024-1\\\\IIMAS-servicio\\\\codigos\\\\corpus_downloader\\\\audios\\\\JT3WoDrrl1A.mp3', 'Caption_YT': 'c:\\\\Users\\\\ruyca\\\\Desktop\\\\UNAM\\\\2024-1\\\\IIMAS-servicio\\\\codigos\\\\corpus_downloader\\\\captions\\\\yt_captions\\\\JT3WoDrrl1A.srt', 'Caption_Whisper': 'c:\\\\Users\\\\ruyca\\\\Desktop\\\\UNAM\\\\2024-1\\\\IIMAS-servicio\\\\codigos\\\\corpus_downloader\\\\captions\\\\whisper_captions\\\\hWKy7Ns1pNo.srt'}, {'Estado': 'Aguascalientes', 'Autor': 'Paulina Espinoza Ávila', 'Edad': 37.0, 'Genero': 'Femenino', 'VideoID': '6DRWV94GF_M', 'Ruta': 'c:\\\\Users\\\\ruyca\\\\Desktop\\\\UNAM\\\\2024-1\\\\IIMAS-servicio\\\\codigos\\\\corpus_downloader\\\\audios\\\\6DRWV94GF_M.mp3', 'Caption_YT': 'c:\\\\Users\\\\ruyca\\\\Desktop\\\\UNAM\\\\2024-1\\\\IIMAS-servicio\\\\codigos\\\\corpus_downloader\\\\captions\\\\yt_captions\\\\6DRWV94GF_M.srt', 'Caption_Whisper': 'c:\\\\Users\\\\ruyca\\\\Desktop\\\\UNAM\\\\2024-1\\\\IIMAS-servicio\\\\codigos\\\\corpus_downloader\\\\captions\\\\whisper_captions\\\\hWKy7Ns1pNo.srt'}, {'Estado': 'Aguascalientes', 'Autor': 'Paulina Espinoza Ávila', 'Edad': 37.0, 'Genero': 'Femenino', 'VideoID': '8rAqZKE6ZRk', 'Ruta': 'c:\\\\Users\\\\ruyca\\\\Desktop\\\\UNAM\\\\2024-1\\\\IIMAS-servicio\\\\codigos\\\\corpus_downloader\\\\audios\\\\8rAqZKE6ZRk.mp3', 'Caption_YT': 'c:\\\\Users\\\\ruyca\\\\Desktop\\\\UNAM\\\\2024-1\\\\IIMAS-servicio\\\\codigos\\\\corpus_downloader\\\\captions\\\\yt_captions\\\\8rAqZKE6ZRk.srt', 'Caption_Whisper': 'c:\\\\Users\\\\ruyca\\\\Desktop\\\\UNAM\\\\2024-1\\\\IIMAS-servicio\\\\codigos\\\\corpus_downloader\\\\captions\\\\whisper_captions\\\\hWKy7Ns1pNo.srt'}]\n",
      "Transcripcion ya generada, saltando...\n",
      "c:\\Users\\ruyca\\Desktop\\UNAM\\2024-1\\IIMAS-servicio\\codigos\\corpus_downloader\\captions\\whisper_captions\\hWKy7Ns1pNo.srt\n",
      "Transcripcion ya generada, saltando...\n",
      "c:\\Users\\ruyca\\Desktop\\UNAM\\2024-1\\IIMAS-servicio\\codigos\\corpus_downloader\\captions\\whisper_captions\\hWKy7Ns1pNo.srt\n",
      "Transcripcion ya generada, saltando...\n",
      "c:\\Users\\ruyca\\Desktop\\UNAM\\2024-1\\IIMAS-servicio\\codigos\\corpus_downloader\\captions\\whisper_captions\\hWKy7Ns1pNo.srt\n",
      "Transcripcion ya generada, saltando...\n",
      "c:\\Users\\ruyca\\Desktop\\UNAM\\2024-1\\IIMAS-servicio\\codigos\\corpus_downloader\\captions\\whisper_captions\\hWKy7Ns1pNo.srt\n",
      "Transcripcion ya generada, saltando...\n",
      "c:\\Users\\ruyca\\Desktop\\UNAM\\2024-1\\IIMAS-servicio\\codigos\\corpus_downloader\\captions\\whisper_captions\\hWKy7Ns1pNo.srt\n"
     ]
    }
   ],
   "source": [
    "print(db.all())\n",
    "audios = Query()\n",
    "for item in db:\n",
    "    vid_id = item['VideoID']\n",
    "    audio_dir = item['Ruta']\n",
    "    if audio_dir == 'N/A':\n",
    "        r = captions_whisper(audio_dir)\n",
    "        db.update({'Caption_Whisper':r}, audios.VideoID == vid_id)\n",
    "    else:\n",
    "        print(\"Transcripcion ya generada, saltando...\")"
   ]
  },
  {
   "cell_type": "code",
   "execution_count": 66,
   "metadata": {},
   "outputs": [
    {
     "name": "stdout",
     "output_type": "stream",
     "text": [
      "{'Estado': 'Aguascalientes', 'Autor': 'Alejandra García ', 'Edad': 26.0, 'Genero': 'Femenino', 'VideoID': 'hWKy7Ns1pNo', 'Ruta': 'c:\\\\Users\\\\ruyca\\\\Desktop\\\\UNAM\\\\2024-1\\\\IIMAS-servicio\\\\codigos\\\\corpus_downloader\\\\audios\\\\hWKy7Ns1pNo.mp3', 'Caption_YT': 'c:\\\\Users\\\\ruyca\\\\Desktop\\\\UNAM\\\\2024-1\\\\IIMAS-servicio\\\\codigos\\\\corpus_downloader\\\\captions\\\\yt_captions\\\\hWKy7Ns1pNo.srt', 'Caption_Whisper': 'N/A'}\n",
      "Detected language: Spanish\n"
     ]
    },
    {
     "name": "stderr",
     "output_type": "stream",
     "text": [
      "100%|██████████| 161836/161836 [09:37<00:00, 280.47frames/s]\n"
     ]
    },
    {
     "name": "stdout",
     "output_type": "stream",
     "text": [
      "c:\\Users\\ruyca\\Desktop\\UNAM\\2024-1\\IIMAS-servicio\\codigos\\corpus_downloader\\captions\\whisper_captions\\Users\\ruyca\\Desktop\\UNAM\\2024-1\\IIMAS-servicio\\codigos\\corpus_downloader\\audios\\hWKy7Ns1pNo.srt\n",
      "{'Estado': 'Aguascalientes', 'Autor': 'Alejandra García ', 'Edad': 26.0, 'Genero': 'Femenino', 'VideoID': 'bm2xz0_HrGc', 'Ruta': 'c:\\\\Users\\\\ruyca\\\\Desktop\\\\UNAM\\\\2024-1\\\\IIMAS-servicio\\\\codigos\\\\corpus_downloader\\\\audios\\\\bm2xz0_HrGc.mp3', 'Caption_YT': 'c:\\\\Users\\\\ruyca\\\\Desktop\\\\UNAM\\\\2024-1\\\\IIMAS-servicio\\\\codigos\\\\corpus_downloader\\\\captions\\\\yt_captions\\\\bm2xz0_HrGc.srt', 'Caption_Whisper': 'N/A'}\n",
      "Detected language: Spanish\n"
     ]
    },
    {
     "name": "stderr",
     "output_type": "stream",
     "text": [
      " 40%|███▉      | 57904/145266 [02:12<03:19, 438.57frames/s]\n"
     ]
    },
    {
     "ename": "KeyboardInterrupt",
     "evalue": "",
     "output_type": "error",
     "traceback": [
      "\u001b[1;31m---------------------------------------------------------------------------\u001b[0m",
      "\u001b[1;31mKeyboardInterrupt\u001b[0m                         Traceback (most recent call last)",
      "\u001b[1;32mc:\\Users\\ruyca\\Desktop\\UNAM\\2024-1\\IIMAS-servicio\\codigos\\corpus_downloader\\main.ipynb Celda 19\u001b[0m line \u001b[0;36m5\n\u001b[0;32m      <a href='vscode-notebook-cell:/c%3A/Users/ruyca/Desktop/UNAM/2024-1/IIMAS-servicio/codigos/corpus_downloader/main.ipynb#X56sZmlsZQ%3D%3D?line=2'>3</a>\u001b[0m audio_dir \u001b[39m=\u001b[39m item[\u001b[39m'\u001b[39m\u001b[39mRuta\u001b[39m\u001b[39m'\u001b[39m]\n\u001b[0;32m      <a href='vscode-notebook-cell:/c%3A/Users/ruyca/Desktop/UNAM/2024-1/IIMAS-servicio/codigos/corpus_downloader/main.ipynb#X56sZmlsZQ%3D%3D?line=3'>4</a>\u001b[0m \u001b[39mif\u001b[39;00m audio_dir \u001b[39m!=\u001b[39m \u001b[39m'\u001b[39m\u001b[39mN/A\u001b[39m\u001b[39m'\u001b[39m:\n\u001b[1;32m----> <a href='vscode-notebook-cell:/c%3A/Users/ruyca/Desktop/UNAM/2024-1/IIMAS-servicio/codigos/corpus_downloader/main.ipynb#X56sZmlsZQ%3D%3D?line=4'>5</a>\u001b[0m     r \u001b[39m=\u001b[39m captions_whisper(audio_dir)     \n\u001b[0;32m      <a href='vscode-notebook-cell:/c%3A/Users/ruyca/Desktop/UNAM/2024-1/IIMAS-servicio/codigos/corpus_downloader/main.ipynb#X56sZmlsZQ%3D%3D?line=5'>6</a>\u001b[0m \u001b[39melse\u001b[39;00m:\n\u001b[0;32m      <a href='vscode-notebook-cell:/c%3A/Users/ruyca/Desktop/UNAM/2024-1/IIMAS-servicio/codigos/corpus_downloader/main.ipynb#X56sZmlsZQ%3D%3D?line=6'>7</a>\u001b[0m     \u001b[39mprint\u001b[39m(\u001b[39m\"\u001b[39m\u001b[39mTranscripción ya generada, saltando...\u001b[39m\u001b[39m\"\u001b[39m)\n",
      "\u001b[1;32mc:\\Users\\ruyca\\Desktop\\UNAM\\2024-1\\IIMAS-servicio\\codigos\\corpus_downloader\\main.ipynb Celda 19\u001b[0m line \u001b[0;36m5\n\u001b[0;32m      <a href='vscode-notebook-cell:/c%3A/Users/ruyca/Desktop/UNAM/2024-1/IIMAS-servicio/codigos/corpus_downloader/main.ipynb#X56sZmlsZQ%3D%3D?line=2'>3</a>\u001b[0m model \u001b[39m=\u001b[39m whisper\u001b[39m.\u001b[39mload_model(\u001b[39m\"\u001b[39m\u001b[39mbase\u001b[39m\u001b[39m\"\u001b[39m)\n\u001b[0;32m      <a href='vscode-notebook-cell:/c%3A/Users/ruyca/Desktop/UNAM/2024-1/IIMAS-servicio/codigos/corpus_downloader/main.ipynb#X56sZmlsZQ%3D%3D?line=3'>4</a>\u001b[0m audio \u001b[39m=\u001b[39m \u001b[39mr\u001b[39m\u001b[39m'\u001b[39m\u001b[39m{}\u001b[39;00m\u001b[39m'\u001b[39m\u001b[39m.\u001b[39mformat(ruta_audio)\n\u001b[1;32m----> <a href='vscode-notebook-cell:/c%3A/Users/ruyca/Desktop/UNAM/2024-1/IIMAS-servicio/codigos/corpus_downloader/main.ipynb#X56sZmlsZQ%3D%3D?line=4'>5</a>\u001b[0m result \u001b[39m=\u001b[39m model\u001b[39m.\u001b[39;49mtranscribe(audio\u001b[39m=\u001b[39;49maudio,\n\u001b[0;32m      <a href='vscode-notebook-cell:/c%3A/Users/ruyca/Desktop/UNAM/2024-1/IIMAS-servicio/codigos/corpus_downloader/main.ipynb#X56sZmlsZQ%3D%3D?line=5'>6</a>\u001b[0m                         fp16\u001b[39m=\u001b[39;49m\u001b[39mFalse\u001b[39;49;00m, word_timestamps\u001b[39m=\u001b[39;49m\u001b[39mTrue\u001b[39;49;00m,\n\u001b[0;32m      <a href='vscode-notebook-cell:/c%3A/Users/ruyca/Desktop/UNAM/2024-1/IIMAS-servicio/codigos/corpus_downloader/main.ipynb#X56sZmlsZQ%3D%3D?line=6'>7</a>\u001b[0m                         verbose\u001b[39m=\u001b[39;49m\u001b[39mFalse\u001b[39;49;00m)\n\u001b[0;32m      <a href='vscode-notebook-cell:/c%3A/Users/ruyca/Desktop/UNAM/2024-1/IIMAS-servicio/codigos/corpus_downloader/main.ipynb#X56sZmlsZQ%3D%3D?line=7'>8</a>\u001b[0m srt_writer \u001b[39m=\u001b[39m get_writer(\u001b[39m\"\u001b[39m\u001b[39msrt\u001b[39m\u001b[39m\"\u001b[39m, WHISPER_CAPTIONS_DIR)\n\u001b[0;32m      <a href='vscode-notebook-cell:/c%3A/Users/ruyca/Desktop/UNAM/2024-1/IIMAS-servicio/codigos/corpus_downloader/main.ipynb#X56sZmlsZQ%3D%3D?line=8'>9</a>\u001b[0m srt_writer(result, audio)  \n",
      "File \u001b[1;32mc:\\Users\\ruyca\\Desktop\\UNAM\\2024-1\\IIMAS-servicio\\codigos\\corpus_downloader\\venv2\\lib\\site-packages\\whisper\\transcribe.py:240\u001b[0m, in \u001b[0;36mtranscribe\u001b[1;34m(model, audio, verbose, temperature, compression_ratio_threshold, logprob_threshold, no_speech_threshold, condition_on_previous_text, initial_prompt, word_timestamps, prepend_punctuations, append_punctuations, **decode_options)\u001b[0m\n\u001b[0;32m    237\u001b[0m mel_segment \u001b[39m=\u001b[39m pad_or_trim(mel_segment, N_FRAMES)\u001b[39m.\u001b[39mto(model\u001b[39m.\u001b[39mdevice)\u001b[39m.\u001b[39mto(dtype)\n\u001b[0;32m    239\u001b[0m decode_options[\u001b[39m\"\u001b[39m\u001b[39mprompt\u001b[39m\u001b[39m\"\u001b[39m] \u001b[39m=\u001b[39m all_tokens[prompt_reset_since:]\n\u001b[1;32m--> 240\u001b[0m result: DecodingResult \u001b[39m=\u001b[39m decode_with_fallback(mel_segment)\n\u001b[0;32m    241\u001b[0m tokens \u001b[39m=\u001b[39m torch\u001b[39m.\u001b[39mtensor(result\u001b[39m.\u001b[39mtokens)\n\u001b[0;32m    243\u001b[0m \u001b[39mif\u001b[39;00m no_speech_threshold \u001b[39mis\u001b[39;00m \u001b[39mnot\u001b[39;00m \u001b[39mNone\u001b[39;00m:\n\u001b[0;32m    244\u001b[0m     \u001b[39m# no voice activity check\u001b[39;00m\n",
      "File \u001b[1;32mc:\\Users\\ruyca\\Desktop\\UNAM\\2024-1\\IIMAS-servicio\\codigos\\corpus_downloader\\venv2\\lib\\site-packages\\whisper\\transcribe.py:170\u001b[0m, in \u001b[0;36mtranscribe.<locals>.decode_with_fallback\u001b[1;34m(segment)\u001b[0m\n\u001b[0;32m    167\u001b[0m     kwargs\u001b[39m.\u001b[39mpop(\u001b[39m\"\u001b[39m\u001b[39mbest_of\u001b[39m\u001b[39m\"\u001b[39m, \u001b[39mNone\u001b[39;00m)\n\u001b[0;32m    169\u001b[0m options \u001b[39m=\u001b[39m DecodingOptions(\u001b[39m*\u001b[39m\u001b[39m*\u001b[39mkwargs, temperature\u001b[39m=\u001b[39mt)\n\u001b[1;32m--> 170\u001b[0m decode_result \u001b[39m=\u001b[39m model\u001b[39m.\u001b[39;49mdecode(segment, options)\n\u001b[0;32m    172\u001b[0m needs_fallback \u001b[39m=\u001b[39m \u001b[39mFalse\u001b[39;00m\n\u001b[0;32m    173\u001b[0m \u001b[39mif\u001b[39;00m (\n\u001b[0;32m    174\u001b[0m     compression_ratio_threshold \u001b[39mis\u001b[39;00m \u001b[39mnot\u001b[39;00m \u001b[39mNone\u001b[39;00m\n\u001b[0;32m    175\u001b[0m     \u001b[39mand\u001b[39;00m decode_result\u001b[39m.\u001b[39mcompression_ratio \u001b[39m>\u001b[39m compression_ratio_threshold\n\u001b[0;32m    176\u001b[0m ):\n",
      "File \u001b[1;32mc:\\Users\\ruyca\\Desktop\\UNAM\\2024-1\\IIMAS-servicio\\codigos\\corpus_downloader\\venv2\\lib\\site-packages\\torch\\utils\\_contextlib.py:115\u001b[0m, in \u001b[0;36mcontext_decorator.<locals>.decorate_context\u001b[1;34m(*args, **kwargs)\u001b[0m\n\u001b[0;32m    112\u001b[0m \u001b[39m@functools\u001b[39m\u001b[39m.\u001b[39mwraps(func)\n\u001b[0;32m    113\u001b[0m \u001b[39mdef\u001b[39;00m \u001b[39mdecorate_context\u001b[39m(\u001b[39m*\u001b[39margs, \u001b[39m*\u001b[39m\u001b[39m*\u001b[39mkwargs):\n\u001b[0;32m    114\u001b[0m     \u001b[39mwith\u001b[39;00m ctx_factory():\n\u001b[1;32m--> 115\u001b[0m         \u001b[39mreturn\u001b[39;00m func(\u001b[39m*\u001b[39margs, \u001b[39m*\u001b[39m\u001b[39m*\u001b[39mkwargs)\n",
      "File \u001b[1;32mc:\\Users\\ruyca\\Desktop\\UNAM\\2024-1\\IIMAS-servicio\\codigos\\corpus_downloader\\venv2\\lib\\site-packages\\whisper\\decoding.py:824\u001b[0m, in \u001b[0;36mdecode\u001b[1;34m(model, mel, options, **kwargs)\u001b[0m\n\u001b[0;32m    821\u001b[0m \u001b[39mif\u001b[39;00m kwargs:\n\u001b[0;32m    822\u001b[0m     options \u001b[39m=\u001b[39m replace(options, \u001b[39m*\u001b[39m\u001b[39m*\u001b[39mkwargs)\n\u001b[1;32m--> 824\u001b[0m result \u001b[39m=\u001b[39m DecodingTask(model, options)\u001b[39m.\u001b[39;49mrun(mel)\n\u001b[0;32m    826\u001b[0m \u001b[39mreturn\u001b[39;00m result[\u001b[39m0\u001b[39m] \u001b[39mif\u001b[39;00m single \u001b[39melse\u001b[39;00m result\n",
      "File \u001b[1;32mc:\\Users\\ruyca\\Desktop\\UNAM\\2024-1\\IIMAS-servicio\\codigos\\corpus_downloader\\venv2\\lib\\site-packages\\torch\\utils\\_contextlib.py:115\u001b[0m, in \u001b[0;36mcontext_decorator.<locals>.decorate_context\u001b[1;34m(*args, **kwargs)\u001b[0m\n\u001b[0;32m    112\u001b[0m \u001b[39m@functools\u001b[39m\u001b[39m.\u001b[39mwraps(func)\n\u001b[0;32m    113\u001b[0m \u001b[39mdef\u001b[39;00m \u001b[39mdecorate_context\u001b[39m(\u001b[39m*\u001b[39margs, \u001b[39m*\u001b[39m\u001b[39m*\u001b[39mkwargs):\n\u001b[0;32m    114\u001b[0m     \u001b[39mwith\u001b[39;00m ctx_factory():\n\u001b[1;32m--> 115\u001b[0m         \u001b[39mreturn\u001b[39;00m func(\u001b[39m*\u001b[39margs, \u001b[39m*\u001b[39m\u001b[39m*\u001b[39mkwargs)\n",
      "File \u001b[1;32mc:\\Users\\ruyca\\Desktop\\UNAM\\2024-1\\IIMAS-servicio\\codigos\\corpus_downloader\\venv2\\lib\\site-packages\\whisper\\decoding.py:737\u001b[0m, in \u001b[0;36mDecodingTask.run\u001b[1;34m(self, mel)\u001b[0m\n\u001b[0;32m    734\u001b[0m tokens \u001b[39m=\u001b[39m tokens\u001b[39m.\u001b[39mrepeat_interleave(\u001b[39mself\u001b[39m\u001b[39m.\u001b[39mn_group, dim\u001b[39m=\u001b[39m\u001b[39m0\u001b[39m)\u001b[39m.\u001b[39mto(audio_features\u001b[39m.\u001b[39mdevice)\n\u001b[0;32m    736\u001b[0m \u001b[39m# call the main sampling loop\u001b[39;00m\n\u001b[1;32m--> 737\u001b[0m tokens, sum_logprobs, no_speech_probs \u001b[39m=\u001b[39m \u001b[39mself\u001b[39;49m\u001b[39m.\u001b[39;49m_main_loop(audio_features, tokens)\n\u001b[0;32m    739\u001b[0m \u001b[39m# reshape the tensors to have (n_audio, n_group) as the first two dimensions\u001b[39;00m\n\u001b[0;32m    740\u001b[0m audio_features \u001b[39m=\u001b[39m audio_features[:: \u001b[39mself\u001b[39m\u001b[39m.\u001b[39mn_group]\n",
      "File \u001b[1;32mc:\\Users\\ruyca\\Desktop\\UNAM\\2024-1\\IIMAS-servicio\\codigos\\corpus_downloader\\venv2\\lib\\site-packages\\whisper\\decoding.py:703\u001b[0m, in \u001b[0;36mDecodingTask._main_loop\u001b[1;34m(self, audio_features, tokens)\u001b[0m\n\u001b[0;32m    700\u001b[0m     logit_filter\u001b[39m.\u001b[39mapply(logits, tokens)\n\u001b[0;32m    702\u001b[0m \u001b[39m# expand the tokens tensor with the selected next tokens\u001b[39;00m\n\u001b[1;32m--> 703\u001b[0m tokens, completed \u001b[39m=\u001b[39m \u001b[39mself\u001b[39;49m\u001b[39m.\u001b[39;49mdecoder\u001b[39m.\u001b[39;49mupdate(tokens, logits, sum_logprobs)\n\u001b[0;32m    705\u001b[0m \u001b[39mif\u001b[39;00m completed \u001b[39mor\u001b[39;00m tokens\u001b[39m.\u001b[39mshape[\u001b[39m-\u001b[39m\u001b[39m1\u001b[39m] \u001b[39m>\u001b[39m \u001b[39mself\u001b[39m\u001b[39m.\u001b[39mn_ctx:\n\u001b[0;32m    706\u001b[0m     \u001b[39mbreak\u001b[39;00m\n",
      "File \u001b[1;32mc:\\Users\\ruyca\\Desktop\\UNAM\\2024-1\\IIMAS-servicio\\codigos\\corpus_downloader\\venv2\\lib\\site-packages\\whisper\\decoding.py:285\u001b[0m, in \u001b[0;36mGreedyDecoder.update\u001b[1;34m(self, tokens, logits, sum_logprobs)\u001b[0m\n\u001b[0;32m    282\u001b[0m \u001b[39melse\u001b[39;00m:\n\u001b[0;32m    283\u001b[0m     next_tokens \u001b[39m=\u001b[39m Categorical(logits\u001b[39m=\u001b[39mlogits \u001b[39m/\u001b[39m \u001b[39mself\u001b[39m\u001b[39m.\u001b[39mtemperature)\u001b[39m.\u001b[39msample()\n\u001b[1;32m--> 285\u001b[0m logprobs \u001b[39m=\u001b[39m F\u001b[39m.\u001b[39;49mlog_softmax(logits\u001b[39m.\u001b[39;49mfloat(), dim\u001b[39m=\u001b[39;49m\u001b[39m-\u001b[39;49m\u001b[39m1\u001b[39;49m)\n\u001b[0;32m    286\u001b[0m current_logprobs \u001b[39m=\u001b[39m logprobs[torch\u001b[39m.\u001b[39marange(logprobs\u001b[39m.\u001b[39mshape[\u001b[39m0\u001b[39m]), next_tokens]\n\u001b[0;32m    287\u001b[0m sum_logprobs \u001b[39m+\u001b[39m\u001b[39m=\u001b[39m current_logprobs \u001b[39m*\u001b[39m (tokens[:, \u001b[39m-\u001b[39m\u001b[39m1\u001b[39m] \u001b[39m!=\u001b[39m \u001b[39mself\u001b[39m\u001b[39m.\u001b[39meot)\n",
      "File \u001b[1;32mc:\\Users\\ruyca\\Desktop\\UNAM\\2024-1\\IIMAS-servicio\\codigos\\corpus_downloader\\venv2\\lib\\site-packages\\torch\\nn\\functional.py:1945\u001b[0m, in \u001b[0;36mlog_softmax\u001b[1;34m(input, dim, _stacklevel, dtype)\u001b[0m\n\u001b[0;32m   1943\u001b[0m     dim \u001b[39m=\u001b[39m _get_softmax_dim(\u001b[39m\"\u001b[39m\u001b[39mlog_softmax\u001b[39m\u001b[39m\"\u001b[39m, \u001b[39minput\u001b[39m\u001b[39m.\u001b[39mdim(), _stacklevel)\n\u001b[0;32m   1944\u001b[0m \u001b[39mif\u001b[39;00m dtype \u001b[39mis\u001b[39;00m \u001b[39mNone\u001b[39;00m:\n\u001b[1;32m-> 1945\u001b[0m     ret \u001b[39m=\u001b[39m \u001b[39minput\u001b[39;49m\u001b[39m.\u001b[39;49mlog_softmax(dim)\n\u001b[0;32m   1946\u001b[0m \u001b[39melse\u001b[39;00m:\n\u001b[0;32m   1947\u001b[0m     ret \u001b[39m=\u001b[39m \u001b[39minput\u001b[39m\u001b[39m.\u001b[39mlog_softmax(dim, dtype\u001b[39m=\u001b[39mdtype)\n",
      "\u001b[1;31mKeyboardInterrupt\u001b[0m: "
     ]
    }
   ],
   "source": [
    "for item in db:\n",
    "    print(item)\n",
    "    audio_dir = item['Ruta']\n",
    "    if audio_dir != 'N/A':\n",
    "        r = captions_whisper(audio_dir)     \n",
    "    else:\n",
    "        print(\"Transcripción ya generada, saltando...\")\n",
    "    print(r)"
   ]
  },
  {
   "cell_type": "code",
   "execution_count": 82,
   "metadata": {},
   "outputs": [
    {
     "name": "stdout",
     "output_type": "stream",
     "text": [
      "hWKy7Ns1pNo\n",
      "11\n"
     ]
    }
   ],
   "source": [
    "s = \"c:\\\\Users\\\\ruyca\\\\Desktop\\\\UNAM\\\\2024-1\\\\IIMAS-servicio\\\\codigos\\\\corpus_downloader\\\\audios\\\\hWKy7Ns1pNo.mp3\"\n",
    "n = s.find(\".mp3\") - 11\n",
    "vid_id = s[n:len(s)-4]\n",
    "print(vid_id)\n",
    "print(len(vid_id))"
   ]
  }
 ],
 "metadata": {
  "kernelspec": {
   "display_name": "venv2",
   "language": "python",
   "name": "python3"
  },
  "language_info": {
   "codemirror_mode": {
    "name": "ipython",
    "version": 3
   },
   "file_extension": ".py",
   "mimetype": "text/x-python",
   "name": "python",
   "nbconvert_exporter": "python",
   "pygments_lexer": "ipython3",
   "version": "3.9.1"
  }
 },
 "nbformat": 4,
 "nbformat_minor": 2
}
