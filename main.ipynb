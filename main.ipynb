{
 "cells": [
  {
   "cell_type": "markdown",
   "metadata": {},
   "source": [
    "# Titulo"
   ]
  },
  {
   "cell_type": "code",
   "execution_count": 1,
   "metadata": {},
   "outputs": [],
   "source": [
    "import pandas as pd\n",
    "import os\n",
    "import time \n",
    "from tinydb import TinyDB, Query\n",
    "from pytubefix import YouTube\n",
    "from pytubefix.exceptions import VideoUnavailable\n",
    "from pytubefix.cli import on_progress\n",
    "import whisper\n",
    "from whisper.utils import get_writer"
   ]
  },
  {
   "cell_type": "markdown",
   "metadata": {},
   "source": [
    "## Constantes y variables auxiliares"
   ]
  },
  {
   "cell_type": "code",
   "execution_count": 2,
   "metadata": {},
   "outputs": [],
   "source": [
    "ESTADOS = {1:\"Aguascalientes\", 2:\"Baja California\", 3:\"Baja California Sur\", 4:\"Campeche\", \n",
    "            5:\"Chiapas\", 6:\"Chihuahua\", 7:\"Coahuila\", 8:\"Colima\", 9:\"Durango\", 10:\"Guanajuato\",\n",
    "            11:\"Guerrero\", 12:\"Hidalgo\", 13:\"Jalisco\", 14:\"Ciudad de México\", 15:\"Estado de México\", \n",
    "            16:\"Michoacán\", 17:\"Morelos\", 18:\"Nayarit\", 19:\"Nuevo León\", 20:\"Oaxaca\", 21:\"Puebla\", 22:\"Querétaro\", \n",
    "            23:\"Quintana Roo\", 24:\"San Luis Potosí\", 25:\"Sinaloa\", 26:\"Sonora\", 27:\"Tabasco\", 28:\"Tamaulipas\",\n",
    "            29:\"Tlaxcala\", 30:\"Veracruz\", 31:\"Yucatán\", 32:\"Zacatecas\"}\n",
    "\n",
    "# Modidificar si deseas guardar los audios o captions en otra ubicación\n",
    "AUDIOS_DIR = os.path.join(os.getcwd(), \"audios\")\n",
    "CAPTIONS_DIR = os.path.join(os.getcwd(), \"captions\")\n",
    "YT_CAPTIONS_DIR = os.path.join(CAPTIONS_DIR, \"yt_captions\")\n",
    "WHISPER_CAPTIONS_DIR = os.path.join(CAPTIONS_DIR, \"whisper_captions\")"
   ]
  },
  {
   "cell_type": "markdown",
   "metadata": {},
   "source": [
    "## Creando un dataframe del corpus actual"
   ]
  },
  {
   "cell_type": "markdown",
   "metadata": {},
   "source": [
    "Actualizado el: 11/11/2023"
   ]
  },
  {
   "cell_type": "code",
   "execution_count": 3,
   "metadata": {},
   "outputs": [
    {
     "data": {
      "text/html": [
       "<div>\n",
       "<style scoped>\n",
       "    .dataframe tbody tr th:only-of-type {\n",
       "        vertical-align: middle;\n",
       "    }\n",
       "\n",
       "    .dataframe tbody tr th {\n",
       "        vertical-align: top;\n",
       "    }\n",
       "\n",
       "    .dataframe thead th {\n",
       "        text-align: right;\n",
       "    }\n",
       "</style>\n",
       "<table border=\"1\" class=\"dataframe\">\n",
       "  <thead>\n",
       "    <tr style=\"text-align: right;\">\n",
       "      <th></th>\n",
       "      <th>Estado</th>\n",
       "      <th>Nombre</th>\n",
       "      <th>Edad</th>\n",
       "      <th>Género</th>\n",
       "      <th>Título</th>\n",
       "      <th>Fecha de creación</th>\n",
       "      <th>Link</th>\n",
       "      <th>Fecha de recopilación</th>\n",
       "      <th>Aportación</th>\n",
       "    </tr>\n",
       "  </thead>\n",
       "  <tbody>\n",
       "    <tr>\n",
       "      <th>0</th>\n",
       "      <td>Aguascalientes</td>\n",
       "      <td>Alejandra García</td>\n",
       "      <td>26.0</td>\n",
       "      <td>Femenino</td>\n",
       "      <td>REGALO COMÍDA en la CALLE | lo logramos 🙏🏻🥳 Al...</td>\n",
       "      <td>31 agosto 2023</td>\n",
       "      <td>https://youtu.be/hWKy7Ns1pNo?si=CtYGM3G0f_TtUXUz</td>\n",
       "      <td>18 septiembre 2023</td>\n",
       "      <td>Heili</td>\n",
       "    </tr>\n",
       "    <tr>\n",
       "      <th>1</th>\n",
       "      <td>Aguascalientes</td>\n",
       "      <td>Alejandra García</td>\n",
       "      <td>26.0</td>\n",
       "      <td>Femenino</td>\n",
       "      <td>habitación principal | REMODELACIÓN, CON POQUI...</td>\n",
       "      <td>30 noviembre 2022</td>\n",
       "      <td>https://youtu.be/bm2xz0_HrGc?si=anegbcnciRTpv535</td>\n",
       "      <td>18 septiembre 2023</td>\n",
       "      <td>Heili</td>\n",
       "    </tr>\n",
       "    <tr>\n",
       "      <th>2</th>\n",
       "      <td>Aguascalientes</td>\n",
       "      <td>Alejandra García</td>\n",
       "      <td>26.0</td>\n",
       "      <td>Femenino</td>\n",
       "      <td>Nuestro Árbol de Navidad Casero | Ale García ✨</td>\n",
       "      <td>21 noviembre 2021</td>\n",
       "      <td>https://youtu.be/JT3WoDrrl1A?si=U7yvebArA8Qx6wkv</td>\n",
       "      <td>18 septiembre 2023</td>\n",
       "      <td>Heili</td>\n",
       "    </tr>\n",
       "    <tr>\n",
       "      <th>3</th>\n",
       "      <td>Aguascalientes</td>\n",
       "      <td>Paulina Espinoza Ávila</td>\n",
       "      <td>37.0</td>\n",
       "      <td>Femenino</td>\n",
       "      <td>inflamación abdominal</td>\n",
       "      <td>1 agosto 2023</td>\n",
       "      <td>https://youtu.be/6DRWV94GF_M?si=-bhaBjaK_jonBLNz</td>\n",
       "      <td>26 de octubre 2023</td>\n",
       "      <td>Heili</td>\n",
       "    </tr>\n",
       "    <tr>\n",
       "      <th>4</th>\n",
       "      <td>Aguascalientes</td>\n",
       "      <td>Paulina Espinoza Ávila</td>\n",
       "      <td>37.0</td>\n",
       "      <td>Femenino</td>\n",
       "      <td>6 de enero de 2023</td>\n",
       "      <td>6 enero 2023</td>\n",
       "      <td>https://youtu.be/8rAqZKE6ZRk?si=gH_-kllispldo99U</td>\n",
       "      <td>26 de octubre 2023</td>\n",
       "      <td>Heili</td>\n",
       "    </tr>\n",
       "  </tbody>\n",
       "</table>\n",
       "</div>"
      ],
      "text/plain": [
       "           Estado                  Nombre  Edad    Género  \\\n",
       "0  Aguascalientes       Alejandra García   26.0  Femenino   \n",
       "1  Aguascalientes       Alejandra García   26.0  Femenino   \n",
       "2  Aguascalientes       Alejandra García   26.0  Femenino   \n",
       "3  Aguascalientes  Paulina Espinoza Ávila  37.0  Femenino   \n",
       "4  Aguascalientes  Paulina Espinoza Ávila  37.0  Femenino   \n",
       "\n",
       "                                              Título  Fecha de creación  \\\n",
       "0  REGALO COMÍDA en la CALLE | lo logramos 🙏🏻🥳 Al...     31 agosto 2023   \n",
       "1  habitación principal | REMODELACIÓN, CON POQUI...  30 noviembre 2022   \n",
       "2     Nuestro Árbol de Navidad Casero | Ale García ✨  21 noviembre 2021   \n",
       "3                              inflamación abdominal      1 agosto 2023   \n",
       "4                                 6 de enero de 2023       6 enero 2023   \n",
       "\n",
       "                                               Link Fecha de recopilación  \\\n",
       "0  https://youtu.be/hWKy7Ns1pNo?si=CtYGM3G0f_TtUXUz    18 septiembre 2023   \n",
       "1  https://youtu.be/bm2xz0_HrGc?si=anegbcnciRTpv535    18 septiembre 2023   \n",
       "2  https://youtu.be/JT3WoDrrl1A?si=U7yvebArA8Qx6wkv    18 septiembre 2023   \n",
       "3  https://youtu.be/6DRWV94GF_M?si=-bhaBjaK_jonBLNz    26 de octubre 2023   \n",
       "4  https://youtu.be/8rAqZKE6ZRk?si=gH_-kllispldo99U    26 de octubre 2023   \n",
       "\n",
       "  Aportación  \n",
       "0      Heili  \n",
       "1      Heili  \n",
       "2      Heili  \n",
       "3      Heili  \n",
       "4      Heili  "
      ]
     },
     "execution_count": 3,
     "metadata": {},
     "output_type": "execute_result"
    }
   ],
   "source": [
    "df = pd.read_csv(\"corpus_yt_2023.csv\")\n",
    "df.rename(str.strip, axis=\"columns\", inplace = True)\n",
    "df.loc[:, \"Nombre\"].ffill(limit=2, inplace = True)\n",
    "df.loc[:, \"Estado\"].ffill(inplace=True)\n",
    "df.loc[:, \"Edad\"].ffill(limit=2, inplace = True)\n",
    "df.loc[:, \"Género\"].ffill(limit=2, inplace = True)\n",
    "\n",
    "df.head(5)"
   ]
  },
  {
   "cell_type": "markdown",
   "metadata": {},
   "source": [
    "## Database con TinyDB"
   ]
  },
  {
   "cell_type": "code",
   "execution_count": 5,
   "metadata": {},
   "outputs": [],
   "source": [
    "db_file = \"audio_database.json\"\n",
    "DOWNLOADED = [] # Guarda el número de la fila de los audios descargados\n",
    "\n",
    "# Tratamos de abrir el archivo json, en caso de que no este, lo creamos.\n",
    "try:\n",
    "    with open(db_file, 'r'):\n",
    "        pass\n",
    "    db = TinyDB(db_file)\n",
    "except FileNotFoundError:\n",
    "    db = TinyDB(db_file)\n",
    "\n",
    "\n",
    "def save_audio_index(index_downloaded):\n",
    "    with open(\"downloaded.txt\", 'a') as file:\n",
    "        file.write(str(index_downloaded) + '\\n')\n",
    "\n",
    "# Guardamos: video_id, estado, autor, edad, genero, ruta_audio, yt_trad, whisper_trad\n",
    "def create_db_entries(df_entry, r_aud, r_yt, r_whisp):\n",
    "    id = YouTube(df_entry[\"Link\"]).video_id\n",
    "    db.insert({\"Estado\":df_entry[\"Estado\"], \"Autor\":df_entry[\"Nombre\"], \"Edad\":df_entry[\"Edad\"], \n",
    "               \"Genero\":df_entry[\"Género\"], \"VideoID\":id, \"Ruta\":r_aud, \"Caption_YT\": r_yt,\n",
    "               \"Caption_Whisper\": r_whisp})\n",
    "\n",
    "def load_downloaded_audios():\n",
    "    # archivo txt con los indices de los auidos ya descargados\n",
    "    try:\n",
    "        with open(\"downloaded.txt\", \"r\") as file:\n",
    "            for row_num in file:\n",
    "                val = int(row_num.strip(\"\\n\"))\n",
    "                DOWNLOADED.append(val)\n",
    "    except FileNotFoundError as e:\n",
    "        print(f\"File not found: {e}\")\n",
    "\n",
    "def errase_db():\n",
    "    db.truncate()\n",
    "    db.all()\n",
    "\n",
    "def errase_downloaded_txt():\n",
    "    try:\n",
    "        with open(\"downloaded.txt\", \"w\") as _:\n",
    "           pass\n",
    "    except FileNotFoundError as e:\n",
    "        print(f'File not found: {e}')"
   ]
  },
  {
   "cell_type": "markdown",
   "metadata": {},
   "source": [
    "## Funciones para generar las transcripciones. \n",
    "\n",
    "Las transcripcciones, o subtítulos o _captions_ es el texto generadoro en cada video. En este caso, utilizamos transcripciones generadas por dos métodos: \n",
    "\n",
    "1. Generadas de manera automática por YouTube.\n",
    "2. Generadas por medio de Whisper."
   ]
  },
  {
   "cell_type": "code",
   "execution_count": 25,
   "metadata": {},
   "outputs": [],
   "source": [
    "# Generación de transcripciones\n",
    "def captions_whisper(ruta_audio: str) -> str:\n",
    "    model = whisper.load_model(\"base\")\n",
    "    audio = r'{}'.format(ruta_audio)\n",
    "    result = model.transcribe(audio=audio,\n",
    "                            fp16=False, word_timestamps=True,\n",
    "                            verbose=False)\n",
    "    srt_writer = get_writer(\"srt\", WHISPER_CAPTIONS_DIR)\n",
    "    srt_writer(result, audio)  \n",
    "\n",
    "    n = ruta_audio.find('\\\\')\n",
    "    name = ruta_audio[n+1:len(s)-4] + \".srt\"\n",
    "    ruta = WHISPER_CAPTIONS_DIR + '\\\\' + name\n",
    "\n",
    "    return ruta\n",
    "\n",
    "def captions_youtbe(yt: YouTube) -> str:\n",
    "    vid_id = yt.video_id\n",
    "    flag = True\n",
    "    try: \n",
    "        caption = yt.captions.get_by_language_code(\"a.es\")\n",
    "        file_path = os.path.join(YT_CAPTIONS_DIR, f\"{vid_id}.txt\")\n",
    "        caption.save_captions(file_path)\n",
    "    except:\n",
    "        print(f\"No se pudo descargar los subtitulos del video: {vid_id}\")\n",
    "        flag = False\n",
    "\n",
    "    ruta = file_path if flag else \"N/A\"\n",
    "\n",
    "    return ruta\n",
    "    "
   ]
  },
  {
   "cell_type": "markdown",
   "metadata": {},
   "source": [
    "## Función para descargar videos"
   ]
  },
  {
   "cell_type": "code",
   "execution_count": 6,
   "metadata": {},
   "outputs": [],
   "source": [
    "def download_audio(link, row, i):\n",
    "    \n",
    "    try: \n",
    "        yt = YouTube(link, on_progress_callback = on_progress)\n",
    "    except VideoUnavailable:\n",
    "        print(f'Video at {link} is unavailable, skipping...')\n",
    "    else:\n",
    "        try:\n",
    "            ys = yt.streams.get_audio_only()\n",
    "            try:\n",
    "                current_name = ys.download(output_path=AUDIOS_DIR, mp3=True)\n",
    "            except:\n",
    "                # No se pudo guardar como mp3\n",
    "                current_name = ys.download(output_path=AUDIOS_DIR)\n",
    "\n",
    "            _, ext = os.path.splitext(current_name)  # Obtenemos la extension\n",
    "            dest_path = os.path.join(AUDIOS_DIR, f\"{yt.video_id}{ext}\")\n",
    "            os.rename(current_name, dest_path) # Cambiamos el nombre por su id\n",
    "            #save_audio_index(i) \n",
    "            # Funcion para generar las transcripciones\n",
    "            rYT, rWHIS = generate_transcriptions(yt)\n",
    "            create_db_entries(row, dest_path, rYT, rWHIS)\n",
    "        except Exception as e:\n",
    "            print(f'An error occurred while downloading the video: {str(e)}')"
   ]
  },
  {
   "cell_type": "markdown",
   "metadata": {},
   "source": [
    "## Main"
   ]
  },
  {
   "cell_type": "code",
   "execution_count": 7,
   "metadata": {},
   "outputs": [
    {
     "name": "stdout",
     "output_type": "stream",
     "text": [
      "************************************************************\n",
      "Iniciando descarga de 183 audios.\n",
      "Tiempo esperado de descarga: 43.8 minutos\n"
     ]
    }
   ],
   "source": [
    "downloaded_counter = 0 \n",
    "\n",
    "df_available = df.dropna()\n",
    "available_total = len(df_available)\n",
    "load_downloaded_audios()\n",
    "exp_time = lambda x: x*71.8/5/60\n",
    "print('**'*30)\n",
    "print(f'Iniciando descarga de {available_total} audios.\\nTiempo esperado de descarga: {round(exp_time(available_total),2)} minutos')\n",
    "\n",
    "start_time = time.time()\n",
    "for i, row in df_available.iterrows():\n",
    "\n",
    "    link = row[\"Link\"]\n",
    "\n",
    "    if downloaded_counter % 5 == 0 and downloaded_counter != 0: \n",
    "        # Cada 5 descargas esperamos un minuto para evitar ser bloqueados\n",
    "        time.sleep(60)\n",
    "\n",
    "    if i in DOWNLOADED:\n",
    "        print(\"Audio ya descargado, saltando...\")\n",
    "        continue\n",
    "    else:\n",
    "        #download_audio(link, row, i)\n",
    "        pass\n",
    "\n",
    "    downloaded_counter += 1\n",
    "\n",
    "end_time = time.time()\n",
    "total_time = round(end_time - start_time / 60, 2)\n",
    "print(\"DESCARGA FINALIZADA\")\n",
    "print(f'Tiempo real de descarga: {total_time} minutos')\n",
    "time.sleep(5)\n",
    "\n",
    "### Creacion de captions\n"
   ]
  },
  {
   "cell_type": "markdown",
   "metadata": {},
   "source": [
    "## TO DO \n",
    "\n",
    "- Agregar captions\n",
    "    - Whisper\n",
    "    - YouTube\n",
    "- Actualizar la creacion de tinyDB con rutas de captions\n",
    "- Terminar el querying \n",
    "- Arreglar archivos, formato, etc"
   ]
  },
  {
   "cell_type": "code",
   "execution_count": 9,
   "metadata": {},
   "outputs": [],
   "source": [
    "#### delete\n",
    "errase_db()\n",
    "errase_downloaded_txt()"
   ]
  }
 ],
 "metadata": {
  "kernelspec": {
   "display_name": "venv2",
   "language": "python",
   "name": "python3"
  },
  "language_info": {
   "codemirror_mode": {
    "name": "ipython",
    "version": 3
   },
   "file_extension": ".py",
   "mimetype": "text/x-python",
   "name": "python",
   "nbconvert_exporter": "python",
   "pygments_lexer": "ipython3",
   "version": "3.9.1"
  }
 },
 "nbformat": 4,
 "nbformat_minor": 2
}
